{
 "cells": [
  {
   "cell_type": "markdown",
   "id": "be06a3e8-038a-46a8-8ce6-15cf007beda3",
   "metadata": {},
   "source": [
    "# Question 1"
   ]
  },
  {
   "cell_type": "raw",
   "id": "66f1548d-ee4b-4ac5-b5e8-2b169bb7e81d",
   "metadata": {},
   "source": [
    "What data type is each of the following (evaluate where necessary)?\n",
    "\n",
    "5\n",
    "5.0\n",
    "5 > 1\n",
    "'5'\n",
    "5 * 2\n",
    "'5' * 2\n",
    "'5' + '2'\n",
    "5 / 2\n",
    "5 % 2\n",
    "{5, 2, 1}\n",
    "5 == 3\n",
    "Pi (the number)\n"
   ]
  },
  {
   "cell_type": "markdown",
   "id": "f0c13fad-9d01-41b6-9aa3-cf4a1db12068",
   "metadata": {},
   "source": [
    "|Input| Data Type| Evaluate|\n",
    "|------|-------|-------|\n",
    "|5| Integer (int)|\n",
    "|5.0| Float|\n",
    "|5 > 1| Boolean (bool) | True|\n",
    "|'5'| String (str)|\n",
    "|5 * 2| Integer (int) | 10 |\n",
    "|'5' * 2| String (str)| 55 |\n",
    "|'5' + '2'| String (str)| 52 |\n",
    "|5 / 2| Float| 2.5 |\n",
    "|5 % 2| Integer (int)| 1 |\n",
    "|{5, 2, 1}| Set |\n",
    "|5 == 3| Boolean (bool)| False |\n",
    "|Pi (the number)| Float| 3.14159 |\n"
   ]
  },
  {
   "cell_type": "markdown",
   "id": "0e127ea5-edf7-47fa-a958-9d79439d1851",
   "metadata": {},
   "source": [
    "# Question 2\n"
   ]
  },
  {
   "cell_type": "raw",
   "id": "361efa69-2310-4d39-90a4-e6eafe6c4194",
   "metadata": {},
   "source": [
    "Write (and evaluate) python expressions that answer these questions:\n",
    "a. How many letters are there in 'Supercalifragilisticexpialidocious'?\n",
    "b. Does 'Supercalifragilisticexpialidocious' contain 'ice' as a substring?\n",
    "c. Which of the following words is the longest: Supercalifragilisticexpialidocious, Honorificabilitudinitatibus, or \n",
    "Bababadalgharaghtakamminarronnkonn?\n",
    "d. Which composer comes first in the dictionary: 'Berlioz', 'Borodin', 'Brian',\n",
    "'Bartok', 'Bellini', 'Buxtehude', 'Bernstein'. Which one comes last?\n"
   ]
  },
  {
   "cell_type": "code",
   "execution_count": 6,
   "id": "50ff8573-07c1-49ce-bdba-8421486aa5ce",
   "metadata": {},
   "outputs": [
    {
     "name": "stdout",
     "output_type": "stream",
     "text": [
      "34\n"
     ]
    }
   ],
   "source": [
    "l = 'Supercalifragilisticexpialidocious'\n",
    "print(len(l))"
   ]
  },
  {
   "cell_type": "code",
   "execution_count": 7,
   "id": "f5db6d50-1e91-454c-9317-f3a294d14faa",
   "metadata": {},
   "outputs": [
    {
     "name": "stdout",
     "output_type": "stream",
     "text": [
      "True\n"
     ]
    }
   ],
   "source": [
    "l = 'Supercalifragilisticexpialidocious'\n",
    "print('ice' in l)"
   ]
  },
  {
   "cell_type": "code",
   "execution_count": 8,
   "id": "f55c3a27-6a4d-4183-8298-94a06e8826be",
   "metadata": {},
   "outputs": [
    {
     "name": "stdout",
     "output_type": "stream",
     "text": [
      "Supercalifragilisticexpialidocious\n"
     ]
    }
   ],
   "source": [
    "lst = ('Supercalifragilisticexpialidocious','Honorificabilitudinitatibus','Bababadalgharaghtakamminarronnkonn')\n",
    "print(max(lst))"
   ]
  },
  {
   "cell_type": "code",
   "execution_count": 9,
   "id": "d662949a-693c-4326-a0f1-20aed26ab235",
   "metadata": {},
   "outputs": [
    {
     "name": "stdout",
     "output_type": "stream",
     "text": [
      "Bartok Buxtehude\n"
     ]
    }
   ],
   "source": [
    "comp = ('Berlioz', 'Borodin', 'Brian','Bartok', 'Bellini', 'Buxtehude', 'Bernstein')\n",
    "first_comp = min(comp)\n",
    "last_comp = max(comp)\n",
    "print(first_comp, last_comp)"
   ]
  },
  {
   "cell_type": "markdown",
   "id": "8709b1bf-2645-454a-bcdb-fe8d3ba2f0f6",
   "metadata": {},
   "source": [
    "# Question 3"
   ]
  },
  {
   "cell_type": "raw",
   "id": "9ddb0fa3-d9f2-412d-854a-5535b9f611d2",
   "metadata": {},
   "source": [
    "Implement function triangleArea(a,b,c) that takes as input the lengths of the 3 sides of a triangle and returns the area of the triangle. By Heron's formula, the area of a triangle with side lengths a, b, and c is s(s - a)(s -b)(s -c), where s = (a+b+c)/2."
   ]
  },
  {
   "cell_type": "code",
   "execution_count": 12,
   "id": "68027ccc-ff9d-466e-bf2f-694bc410e5da",
   "metadata": {},
   "outputs": [
    {
     "name": "stdout",
     "output_type": "stream",
     "text": [
      "2.48746859276655\n"
     ]
    }
   ],
   "source": [
    "import math\n",
    "\n",
    "def triangleArea(a, b, c):\n",
    "    s = (a + b + c) / 2\n",
    "    area = math.sqrt(s * (s - a) * (s - b) * (s - c))\n",
    "    return area\n",
    "\n",
    "print(triangleArea(1, 5, 5))"
   ]
  },
  {
   "cell_type": "markdown",
   "id": "fa66322f-efda-424e-ae42-d83a1c5295f3",
   "metadata": {},
   "source": [
    "# Question 4"
   ]
  },
  {
   "cell_type": "raw",
   "id": "27d61b5e-77a2-47fb-8056-311562e23187",
   "metadata": {},
   "source": [
    "Write a program in python to separate odd and even integers in separate arrays. Go to the editor\n",
    "Test Data :\n",
    "Input the number of elements to be stored in the array :5\n",
    "Input 5 elements in the array :\n",
    "element - 0 : 25\n",
    "element - 1 : 47\n",
    "element - 2 : 42\n",
    "element - 3 : 56\n",
    "element - 4 : 32\n",
    "Expected Output:\n",
    "The Even elements are:\n",
    "42 56 32\n",
    "The Odd elements are :\n",
    "25 47"
   ]
  },
  {
   "cell_type": "code",
   "execution_count": 17,
   "id": "f22689b9-d040-4376-889f-8129f078bf02",
   "metadata": {},
   "outputs": [
    {
     "name": "stdin",
     "output_type": "stream",
     "text": [
      "Input the number of elements:  5\n",
      "e - 0 :  25\n",
      "e - 1 :  47\n",
      "e - 2 :  42\n",
      "e - 3 :  56\n",
      "e - 4 :  32\n"
     ]
    },
    {
     "name": "stdout",
     "output_type": "stream",
     "text": [
      "The Even elements are:\n",
      "42 56 32\n",
      "The Odd elements are:\n",
      "25 47\n"
     ]
    }
   ],
   "source": [
    "def odd_even():\n",
    "    elements = int(input(\"Input the number of elements: \"))\n",
    "    even = []\n",
    "    odd = []\n",
    "    \n",
    "    for i in range(elements):\n",
    "        e= int(input(f\"e - {i} : \"))\n",
    "        if e % 2 == 0:\n",
    "            even.append(e)\n",
    "        else:\n",
    "            odd.append(e)\n",
    "\n",
    "    print(\"The Even elements are:\")\n",
    "    print(\" \".join(map(str, even)))\n",
    "    print(\"The Odd elements are:\")\n",
    "    print(\" \".join(map(str, odd)))\n",
    "\n",
    "odd_even()\n"
   ]
  },
  {
   "cell_type": "markdown",
   "id": "09669f5f-0a0f-4d44-9444-a5d9bf5979b4",
   "metadata": {},
   "source": [
    "# Question 5"
   ]
  },
  {
   "cell_type": "raw",
   "id": "d9600a02-059f-4f80-ad46-207bd044d214",
   "metadata": {},
   "source": [
    "a. Write a function inside(x,y,x1,y1,x2,y2) that returns True or False depending on whether the point (x,y) lies in the rectangle with lower left\n",
    "corner (x1,y1) and upper right corner (x2,y2).\n",
    ">>> inside(1,1,0,0,2,3)\n",
    "True\n",
    ">>> inside(-1,-1,0,0,2,3)\n",
    "False\n",
    "\n",
    "b. Use function inside() from part a. to write an expression that tests whether the point (1,1) lies in both of the following rectangles: one with lower left corner (0.3, 0.5) and upper right corner (1.1, 0.7) and the other with lower left corner (0.5, 0.2) and upper right corner (1.1, 2)."
   ]
  },
  {
   "cell_type": "code",
   "execution_count": 18,
   "id": "f1fde17f-0ea9-4ab8-b8bb-7c5c147ed341",
   "metadata": {},
   "outputs": [
    {
     "name": "stdout",
     "output_type": "stream",
     "text": [
      "True\n",
      "False\n"
     ]
    }
   ],
   "source": [
    "def inside(x, y, x1, y1, x2, y2):\n",
    "    return x1 <= x <= x2 and y1 <= y <= y2\n",
    "\n",
    "print(inside(1, 1, 0, 0, 2, 3))\n",
    "print(inside(-1, -1, 0, 0, 2, 3))\n"
   ]
  },
  {
   "cell_type": "code",
   "execution_count": 20,
   "id": "e185a822-8722-4f1a-ad49-cc36b543ee47",
   "metadata": {},
   "outputs": [
    {
     "name": "stdout",
     "output_type": "stream",
     "text": [
      "False\n"
     ]
    }
   ],
   "source": [
    "rec1 = (0.3, 0.5, 1.1, 0.7)\n",
    "rec2 = (0.5, 0.2, 1.1, 2)\n",
    "\n",
    "point = (1, 1)\n",
    "result = inside(point[0], point[1], *rec1) and inside(point[0], point[1], *rec2)\n",
    "\n",
    "print(result)\n"
   ]
  },
  {
   "cell_type": "markdown",
   "id": "92c58f05-8884-4bdd-a3de-f85b2bf8d8eb",
   "metadata": {},
   "source": [
    "# Question 6"
   ]
  },
  {
   "cell_type": "raw",
   "id": "a2cc6aba-b1a2-41bc-992c-5fb9baf6fbea",
   "metadata": {},
   "source": [
    "You can turn a word into pig-Latin using the following two rules (simplified):\n",
    "• If the word starts with a consonant, move that letter to the end and append 'ay'. For example, 'happy' becomes 'appyhay' and 'pencil' becomes 'encilpay'.\n",
    "• If the word starts with a vowel, simply append 'way' to the end of the word.For example, 'enter' becomes 'enterway' and 'other' becomes 'otherway' . For our purposes, there are 5 vowels: a, e, i, o, u (so we count y as a consonant).\n",
    "Write a function pig() that takes a word (i.e., a string) as input and returns its pigLatin form. Your function should still work if the input word contains upper case characters. Your output should always be lower case however.\n",
    ">>> pig('happy')\n",
    "'appyhay'\n",
    ">>> pig('Enter')\n",
    "'enterway' "
   ]
  },
  {
   "cell_type": "code",
   "execution_count": 21,
   "id": "504d7883-80a7-41e8-8771-67b261ffbbaf",
   "metadata": {},
   "outputs": [
    {
     "name": "stdout",
     "output_type": "stream",
     "text": [
      "appyhay\n",
      "encilpay\n",
      "enterway\n",
      "otherway\n"
     ]
    }
   ],
   "source": [
    "def pig(word):\n",
    "    word = word.lower()\n",
    "    if word[0] in 'aeiou':\n",
    "        return word + 'way'\n",
    "    else:\n",
    "        return word[1:] + word[0] + 'ay'\n",
    "\n",
    "print(pig('happy'))\n",
    "print(pig('pencil'))\n",
    "print(pig('enter'))\n",
    "print(pig('Other'))"
   ]
  },
  {
   "cell_type": "markdown",
   "id": "d4bede2d-78e3-419c-9b88-e551355ef3f9",
   "metadata": {},
   "source": [
    "# Question 7"
   ]
  },
  {
   "cell_type": "raw",
   "id": "86f6df8e-8d89-4199-8320-fba3903eff15",
   "metadata": {},
   "source": [
    "File bloodtype1.txt records blood-types of patients (A, B, AB, O or OO) at a clinic.\n",
    "Write a function bldcount() that reads the file with name name and reports (i.e.,prints) how many patients there are in each bloodtype."
   ]
  },
  {
   "cell_type": "code",
   "execution_count": 1,
   "id": "e97e3d37-2c5d-48c4-aaf7-d67554101cc8",
   "metadata": {},
   "outputs": [],
   "source": [
    "def bldcount(filename):\n",
    "    \n",
    "    #reading the file\n",
    "    x = open(filename,'r')\n",
    "    words = x.readline()\n",
    "    lst = []\n",
    "    blood_types = ['A','B','AB','O','OO']\n",
    "    \n",
    "    #Spliting the words and storing them in a list\n",
    "    lst.append(words.split(\" \"))\n",
    "    \n",
    "    #checking the count for each blood type\n",
    "    for blood_type in blood_types:\n",
    "        print(\"There are {} patients of blood type {}.\".format(lst[0].count(blood_type),blood_type))\n"
   ]
  },
  {
   "cell_type": "code",
   "execution_count": 2,
   "id": "9abf2de4-00e9-4494-bd16-e58edc399cd9",
   "metadata": {},
   "outputs": [
    {
     "name": "stdout",
     "output_type": "stream",
     "text": [
      "There are 15 patients of blood type A.\n",
      "There are 1 patients of blood type B.\n",
      "There are 13 patients of blood type AB.\n",
      "There are 15 patients of blood type O.\n",
      "There are 0 patients of blood type OO.\n"
     ]
    }
   ],
   "source": [
    "bldcount('bloodtype1.txt')"
   ]
  },
  {
   "cell_type": "markdown",
   "id": "7357f16d-a398-467e-83b2-c253e07c9f0b",
   "metadata": {},
   "source": [
    "# Question 8"
   ]
  },
  {
   "cell_type": "raw",
   "id": "7d7fa88b-8f24-4e58-bd4f-f4e9f01247c5",
   "metadata": {},
   "source": [
    "Write a function curconv() that takes as input:\n",
    "1. a currency represented using a string (e.g., 'JPY' for the Japanese Yen or 'EUR' for the Euro)\n",
    "2. an amount and then converts and returns the amount in US dollars."
   ]
  },
  {
   "cell_type": "code",
   "execution_count": 3,
   "id": "c4cc515c-812f-44b7-a04c-40cc04236297",
   "metadata": {},
   "outputs": [],
   "source": [
    "def curconv(currency,amount):\n",
    "    currencies = {}\n",
    "    \n",
    "    #reading the file\n",
    "    cur_file = open('currencies.txt')\n",
    "    lines = cur_file.readlines()\n",
    "    \n",
    "    #storing the currency in the key and it's corresponding $ value and name in value.\n",
    "    for x in lines:\n",
    "        currencies[x[:3].strip()] = x[4:].split(\"\\t\")\n",
    "    value = currencies[currency][0].strip()\n",
    "    print(amount * float(value))"
   ]
  },
  {
   "cell_type": "code",
   "execution_count": 4,
   "id": "b75f5f07-57ed-423f-9354-30165f5500d4",
   "metadata": {},
   "outputs": [
    {
     "name": "stdout",
     "output_type": "stream",
     "text": [
      "1.241401\n"
     ]
    }
   ],
   "source": [
    "curconv('JPY', 100)"
   ]
  },
  {
   "cell_type": "markdown",
   "id": "3b4e9b77-16a8-4fb9-909f-b0eab7624855",
   "metadata": {},
   "source": [
    "# Question 9"
   ]
  },
  {
   "cell_type": "raw",
   "id": "aca191f9-0b5b-4c12-9230-cd3f4fd9fe01",
   "metadata": {},
   "source": [
    "Each of the following will cause an exception (an error). Identify what type of exception each will cause.\n",
    "Trying to add incompatible variables, as in adding 6 + ‘a’\n",
    "Referring to the 12th item of a list that has only 10items\n",
    "Using a value that is out of range for a function’s input, such as calling math.sqrt(-1.0)\n",
    "Using an undeclared variable, such as print(x)when x has not been defined\n",
    "Trying to open a file that does not exist, such as mistyping the file name or looking in the wrongdirectory. "
   ]
  },
  {
   "cell_type": "markdown",
   "id": "4d336c33-e578-446e-81c1-364994120b62",
   "metadata": {},
   "source": [
    "| Error | Exception|\n",
    "|------------|-----|\n",
    "|Trying to add incompatible variables, as in adding 6 + ‘a’|Type Error|\n",
    "|Referring to the 12th item of a list that has only 10 items|Index Error|\n",
    "|Using a value that is out of range for a function’s input, such as calling math.sqrt(-1.0)|Value Error|\n",
    "|Using an undeclared variable, such as print(x) when x has not been defined|Name Error|\n",
    "|Trying to open a file that does not exist, such as mistyping the file name or looking in the wrong directory|FileNotFoundError|\n"
   ]
  },
  {
   "cell_type": "markdown",
   "id": "e9bfe45e-c1e5-4317-8f32-07b9599bbabc",
   "metadata": {},
   "source": [
    "# Question 10"
   ]
  },
  {
   "cell_type": "raw",
   "id": "ccdd5aa2-0e07-49ef-b652-0ae82507800c",
   "metadata": {},
   "source": [
    "Encryption is the process of hiding the meaning of a text by substituting letters in the message with other letters, according to some system. If the process is successful, no one but the intended recipient can understand the encrypted message. Cryptanalysis refers to attempts to undo the encryption, even if some details of the encryption are unknown (for example, if an encrypted message has been intercepted). The first step\n",
    "of cryptanalysis is often to build up a table of letter frequencies in the encrypted text.Assume that the string letters is already defined as 'abcdefghijklmnopqrstuvwxyz'. Write a function called frequencies() that takes a string as its only parameter, and returns a list of integers, showing the number of times each character appears in the text. Your function may ignore any characters that are not in letters. "
   ]
  },
  {
   "cell_type": "code",
   "execution_count": 12,
   "id": "6e4dda45-8931-44a6-a1b2-e1a4e22da87a",
   "metadata": {},
   "outputs": [],
   "source": [
    "def frequencies(text):\n",
    "    \n",
    "    #set of alphabets\n",
    "    alphabets = ('a','b','c','d','e','f','g','h','i','j','k','l','m','n','o','p','q','r','s','t','u','v','w','x','y','z')\n",
    "    total_characters = []\n",
    "    alpha_dict = {}\n",
    "    #picking character from every word of input and appending it to total_character list.\n",
    "    for word in text:\n",
    "        for char in word:\n",
    "            if char.isalpha():\n",
    "                total_characters.append(char)\n",
    "    #checking if the alphabet is present in the total_character list than assigning it it's count otherwise 0\n",
    "    for char in alphabets:\n",
    "        if char in total_characters:\n",
    "            alpha_dict[char] = total_characters.count(char)\n",
    "        else:\n",
    "            alpha_dict[char] = 0\n",
    "            \n",
    "    #printing out the values(count) of the alphabets present in the total_character list\n",
    "    print(list(alpha_dict.values()))"
   ]
  },
  {
   "cell_type": "code",
   "execution_count": 13,
   "id": "87bf4089-4254-4626-9f92-b0ec74a1502b",
   "metadata": {},
   "outputs": [
    {
     "name": "stdout",
     "output_type": "stream",
     "text": [
      "[1, 1, 1, 3, 5, 1, 1, 2, 1, 0, 1, 0, 1, 2, 4, 0, 1, 2, 0, 2, 1, 0, 1, 1, 0, 0]\n"
     ]
    }
   ],
   "source": [
    "frequencies('The quick red fox got bored and went home.')"
   ]
  },
  {
   "cell_type": "code",
   "execution_count": 14,
   "id": "47a59b21-1316-4638-a869-e9dae69cb837",
   "metadata": {},
   "outputs": [
    {
     "name": "stdout",
     "output_type": "stream",
     "text": [
      "[1, 0, 0, 0, 1, 0, 0, 0, 0, 0, 0, 1, 0, 0, 0, 2, 0, 0, 0, 0, 0, 0, 0, 0, 0, 0]\n"
     ]
    }
   ],
   "source": [
    "frequencies('apple')"
   ]
  }
 ],
 "metadata": {
  "kernelspec": {
   "display_name": "Python 3 (ipykernel)",
   "language": "python",
   "name": "python3"
  },
  "language_info": {
   "codemirror_mode": {
    "name": "ipython",
    "version": 3
   },
   "file_extension": ".py",
   "mimetype": "text/x-python",
   "name": "python",
   "nbconvert_exporter": "python",
   "pygments_lexer": "ipython3",
   "version": "3.12.6"
  }
 },
 "nbformat": 4,
 "nbformat_minor": 5
}
